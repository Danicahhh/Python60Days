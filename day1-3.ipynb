{
  "cells": [
    {
      "cell_type": "markdown",
      "metadata": {
        "id": "view-in-github",
        "colab_type": "text"
      },
      "source": [
        "<a href=\"https://colab.research.google.com/github/Danicahhh/Python60Days/blob/main/day1-3.ipynb\" target=\"_parent\"><img src=\"https://colab.research.google.com/assets/colab-badge.svg\" alt=\"Open In Colab\"/></a>"
      ]
    },
    {
      "cell_type": "markdown",
      "metadata": {
        "id": "i89lfOU-4Pbg"
      },
      "source": [
        "# DAY1\n"
      ]
    },
    {
      "cell_type": "markdown",
      "metadata": {
        "id": "3z5HolgS4Pbh"
      },
      "source": [
        "## 了解变量与输出"
      ]
    },
    {
      "cell_type": "code",
      "execution_count": null,
      "metadata": {
        "id": "jUfoo5P04Pbi",
        "outputId": "8b96ba80-1103-4282-90b7-94876720225c"
      },
      "outputs": [
        {
          "name": "stdout",
          "output_type": "stream",
          "text": [
            "1\n",
            "1\n",
            "1\n"
          ]
        }
      ],
      "source": [
        "a=1\n",
        "b=1\n",
        "c=1\n",
        "print(a)\n",
        "print(b)\n",
        "print(c)\n"
      ]
    },
    {
      "cell_type": "code",
      "execution_count": 2,
      "metadata": {
        "colab": {
          "base_uri": "https://localhost:8080/"
        },
        "id": "Pr4qBTqg4Pbj",
        "outputId": "5279dbc3-56bd-4f12-fd47-325b47523bbd"
      },
      "outputs": [
        {
          "output_type": "stream",
          "name": "stdout",
          "text": [
            "1 2 3\n",
            "\n"
          ]
        }
      ],
      "source": [
        "a,b,c=1,2,3\n",
        "print(a,b,c)\n",
        "print()"
      ]
    },
    {
      "cell_type": "code",
      "execution_count": null,
      "metadata": {
        "id": "OIFr_YhF4Pbk",
        "outputId": "4639e263-759c-4196-b458-57af0cab0d9a"
      },
      "outputs": [
        {
          "name": "stdout",
          "output_type": "stream",
          "text": [
            "1\n",
            "2\n",
            "3\n"
          ]
        }
      ],
      "source": [
        "print(a)\n",
        "print(b)\n",
        "print(c)"
      ]
    },
    {
      "cell_type": "code",
      "execution_count": 6,
      "metadata": {
        "colab": {
          "base_uri": "https://localhost:8080/"
        },
        "id": "HV3QUDDn4Pbk",
        "outputId": "aecbf911-cf70-4361-b767-69021306655b"
      },
      "outputs": [
        {
          "output_type": "stream",
          "name": "stdout",
          "text": [
            "1\n",
            "2\n",
            "3\n"
          ]
        }
      ],
      "source": [
        "a,b,c=1,2,3\n",
        "print(a,b,c, sep='\\n')  # 用换行符作为分隔符"
      ]
    },
    {
      "cell_type": "markdown",
      "metadata": {
        "id": "OMsd-eCD4Pbl"
      },
      "source": [
        "print()解读一下他的参数\n",
        "\n",
        "这里有默认参数"
      ]
    },
    {
      "cell_type": "code",
      "execution_count": null,
      "metadata": {
        "id": "-w7WFcb84Pbl"
      },
      "outputs": [],
      "source": []
    },
    {
      "cell_type": "markdown",
      "metadata": {
        "id": "whMmyvdo4Pbm"
      },
      "source": [
        "## 格式化字符串\n"
      ]
    },
    {
      "cell_type": "code",
      "execution_count": null,
      "metadata": {
        "id": "3PQDooSl4Pbm",
        "outputId": "505082a8-d3a5-4c43-e028-69bbd3889fe1"
      },
      "outputs": [
        {
          "name": "stdout",
          "output_type": "stream",
          "text": [
            "我的名字是小明，我住在北京。\n"
          ]
        }
      ],
      "source": [
        "name = \"小明\"\n",
        "city = \"北京\"\n",
        "print(f\"我的名字是{name}，我住在{city}。\")"
      ]
    },
    {
      "cell_type": "code",
      "execution_count": 4,
      "metadata": {
        "colab": {
          "base_uri": "https://localhost:8080/"
        },
        "id": "uACdwdXu4Pbn",
        "outputId": "f3ee1dfe-ee6e-461e-acb5-1a8903542e4d"
      },
      "outputs": [
        {
          "output_type": "stream",
          "name": "stdout",
          "text": [
            "姓名: \"小明\", 城市: \"北京\"\n"
          ]
        }
      ],
      "source": [
        "# 姓名两侧加上引号如何写？\n",
        "name = \"小明\"\n",
        "city = \"北京\"\n",
        "print(f'姓名: \"{name}\", 城市: \"{city}\"')"
      ]
    },
    {
      "cell_type": "code",
      "execution_count": null,
      "metadata": {
        "id": "R9NJwT_34Pbn",
        "outputId": "05d4feae-9614-41a5-d128-fdc66c0ae7cf"
      },
      "outputs": [
        {
          "name": "stdout",
          "output_type": "stream",
          "text": [
            "姓名: \"小明\"\n",
            "城市: 北京\n"
          ]
        }
      ],
      "source": [
        "print(f'姓名: \"{name}\"\\n城市: {city}')"
      ]
    },
    {
      "cell_type": "markdown",
      "metadata": {
        "id": "gW2GgvQi4Pbn"
      },
      "source": [
        "## 变量的基础运算"
      ]
    },
    {
      "cell_type": "code",
      "execution_count": null,
      "metadata": {
        "id": "uLLsqpcG4Pbo",
        "outputId": "97436141-ea78-4782-dd5a-9ab3026735ee"
      },
      "outputs": [
        {
          "name": "stdout",
          "output_type": "stream",
          "text": [
            "20 加 8 的结果是：28\n",
            "20 除以 8 的商是：2.5\n",
            "20 除以 8 的余数是：4\n"
          ]
        }
      ],
      "source": [
        "## 变量的基础运算\n",
        "num1 = 20\n",
        "num2 = 8\n",
        "\n",
        "a = num1 + num2  # 计算和\n",
        "b = num1 / num2  # 计算商\n",
        "c = num1 % num2  # 计算余数\n",
        "\n",
        "# 使用f-string分三行打印结果\n",
        "print(f\"{num1} 加 {num2} 的结果是：{a}\")\n",
        "print(f\"{num1} 除以 {num2} 的商是：{b}\")\n",
        "print(f\"{num1} 除以 {num2} 的余数是：{c}\")"
      ]
    },
    {
      "cell_type": "code",
      "execution_count": 7,
      "metadata": {
        "colab": {
          "base_uri": "https://localhost:8080/"
        },
        "id": "EGg9df-Q4Pbo",
        "outputId": "c4cc9ab2-9b31-4b13-8b7f-acd6ce1bf844"
      },
      "outputs": [
        {
          "output_type": "stream",
          "name": "stdout",
          "text": [
            "最终价格是: 15.92\n",
            "节省金额是: 3.98\n"
          ]
        }
      ],
      "source": [
        "price = 19.9\n",
        "discount = 0.8\n",
        "\n",
        "final_price = price * discount  # 计算折扣后价格\n",
        "saved_amount = price - final_price  # 计算节省金额\n",
        "\n",
        "# 使用f-string分两行打印结果\n",
        "print(f\"最终价格是: {final_price:.2f}\")\n",
        "print(f\"节省金额是: {saved_amount:.2f}\")"
      ]
    },
    {
      "cell_type": "code",
      "source": [
        "print(f'最终价格是:{final_price:.3f}\\n节省金额是:{saved_amount:.2f}')"
      ],
      "metadata": {
        "colab": {
          "base_uri": "https://localhost:8080/"
        },
        "id": "Hu-jsbI-5-t0",
        "outputId": "e42f97a5-67eb-4fb7-9050-90d6a4a5553f"
      },
      "execution_count": 9,
      "outputs": [
        {
          "output_type": "stream",
          "name": "stdout",
          "text": [
            "最终价格是:15.920\n",
            "节省金额是:3.98\n"
          ]
        }
      ]
    },
    {
      "cell_type": "code",
      "source": [
        "print(f'最终价格是:{final_price:.3f},节省金额是:{saved_amount:.2f}')"
      ],
      "metadata": {
        "colab": {
          "base_uri": "https://localhost:8080/"
        },
        "id": "6W_C23cq6d4V",
        "outputId": "a82631f9-de53-4b4f-cd6f-88e5a03cdb84"
      },
      "execution_count": 11,
      "outputs": [
        {
          "output_type": "stream",
          "name": "stdout",
          "text": [
            "最终价格是:15.920,节省金额是:3.98\n"
          ]
        }
      ]
    },
    {
      "cell_type": "markdown",
      "metadata": {
        "id": "dTXc1jAa4Pbo"
      },
      "source": [
        "## 第二天任务"
      ]
    },
    {
      "cell_type": "code",
      "execution_count": null,
      "metadata": {
        "id": "wTQ-yRJS4Pbp",
        "outputId": "a2ae0deb-fcdb-4df2-d223-13924f583b4f"
      },
      "outputs": [
        {
          "name": "stdout",
          "output_type": "stream",
          "text": [
            "拼接结果: Hello Python\n",
            "字符串长度: 12\n",
            "第一个字符: H\n",
            "第二个字符: e\n",
            "最后一个字符是: n\n"
          ]
        }
      ],
      "source": [
        "# 字符串的操作\n",
        "str1 = \"Hello\"\n",
        "str2 = \"Python\"\n",
        "\n",
        "# 字符串拼接（中间加空格）\n",
        "greeting = str1 + \" \" + str2\n",
        "\n",
        "# 计算字符串长度(空格也算)\n",
        "length = len(greeting)\n",
        "\n",
        "# 获取字符串中的字符\n",
        "first_char = greeting[0]\n",
        "second_char = greeting[1]\n",
        "last_char = greeting[-1]  # 使用-1获取最后一个字符\n",
        "\n",
        "# 使用f-string分三行打印结果\n",
        "print(f\"拼接结果: {greeting}\")\n",
        "print(f\"字符串长度: {length}\")\n",
        "print(f\"第一个字符: {first_char}\")\n",
        "print(f\"第二个字符: {second_char}\")\n",
        "print(f\"最后一个字符是: {last_char}\")"
      ]
    },
    {
      "cell_type": "code",
      "source": [
        "from google.colab import drive\n",
        "drive.mount('/content/drive')"
      ],
      "metadata": {
        "colab": {
          "base_uri": "https://localhost:8080/"
        },
        "id": "_Lwx51pP7VnG",
        "outputId": "26affe9f-6f00-4ffd-f8b3-29ccaf99c49f"
      },
      "execution_count": 12,
      "outputs": [
        {
          "output_type": "stream",
          "name": "stdout",
          "text": [
            "Mounted at /content/drive\n"
          ]
        }
      ]
    },
    {
      "cell_type": "code",
      "execution_count": null,
      "metadata": {
        "id": "Z7TZJq7s4Pbp",
        "outputId": "03194f27-9c40-4857-d9a1-5e5a93a56d08"
      },
      "outputs": [
        {
          "name": "stdout",
          "output_type": "stream",
          "text": [
            "75 是否大于 90: False\n",
            "75 是否小于等于 90: True\n",
            "75 是否不等于 90: True\n"
          ]
        }
      ],
      "source": [
        "# 定义变量\n",
        "score_a = 75\n",
        "score_b = 90\n",
        "\n",
        "# 比较运算\n",
        "is_a_higher = score_a > score_b\n",
        "is_a_lower_or_equal = score_a <= score_b\n",
        "is_different = score_a != score_b\n",
        "\n",
        "# 使用f-string打印比较结果\n",
        "print(f\"{score_a} 是否大于 {score_b}: {is_a_higher}\")\n",
        "print(f\"{score_a} 是否小于等于 {score_b}: {is_a_lower_or_equal}\")\n",
        "print(f\"{score_a} 是否不等于 {score_b}: {is_different}\")"
      ]
    },
    {
      "cell_type": "markdown",
      "metadata": {
        "id": "qzBnjCwe4Pbp"
      },
      "source": [
        "## 第三天任务"
      ]
    },
    {
      "cell_type": "markdown",
      "metadata": {
        "id": "gtdK3WVx4Pbp"
      },
      "source": [
        "## 列表的基础操作"
      ]
    },
    {
      "cell_type": "code",
      "execution_count": 14,
      "metadata": {
        "colab": {
          "base_uri": "https://localhost:8080/"
        },
        "id": "navHZ6rp4Pbp",
        "outputId": "56269406-d2cd-4d89-8009-f0cae61263de"
      },
      "outputs": [
        {
          "output_type": "stream",
          "name": "stdout",
          "text": [
            "['Python', 'Ruby', 'Go', 'JavaScript']\n",
            "['Python', 'Ruby', 'JavaScript']\n",
            "第一个技术是: Python\n",
            "当前列表长度: 3\n",
            "最终列表内容: ['Python', 'Ruby', 'JavaScript']\n"
          ]
        }
      ],
      "source": [
        "# 1. 创建包含三个字符串的列表\n",
        "tech_list = [\"Python\", \"Java\", \"Go\"]\n",
        "\n",
        "# 2. 获取第一个元素\n",
        "first_tech = tech_list[0]\n",
        "\n",
        "# 3. 向列表末尾添加新元素\n",
        "tech_list.append(\"JavaScript\")\n",
        "\n",
        "# 4. 修改第二个元素\n",
        "tech_list[1] = \"Ruby\"\n",
        "print(tech_list)\n",
        "\n",
        "# 5. 移除元素\"Go\"\n",
        "tech_list.remove(\"Go\")\n",
        "print(tech_list)\n",
        "\n",
        "# 6. 计算列表当前长度\n",
        "current_length = len(tech_list)\n",
        "\n",
        "# 7. 使用f-string打印结果\n",
        "print(f\"第一个技术是: {first_tech}\")\n",
        "print(f\"当前列表长度: {current_length}\")\n",
        "print(f\"最终列表内容: {tech_list}\")"
      ]
    },
    {
      "cell_type": "markdown",
      "metadata": {
        "id": "AkI5wWHU4Pbq"
      },
      "source": [
        "## 循环语句"
      ]
    },
    {
      "cell_type": "code",
      "execution_count": null,
      "metadata": {
        "id": "7mIVT1DA4Pbq",
        "outputId": "811d9611-b3a8-4e9f-d54d-20daeddf6d9a"
      },
      "outputs": [
        {
          "name": "stdout",
          "output_type": "stream",
          "text": [
            "1到100的和是: 5050\n"
          ]
        }
      ],
      "source": [
        "# 初始化总和变量\n",
        "total = 0\n",
        "\n",
        "# 使用for循环累加1到100\n",
        "for num in range(1, 101):  # range(1,101)表示从1到100（包含100）\n",
        "    total += num\n",
        "\n",
        "# 打印结果\n",
        "print(f\"1到100的和是: {total}\")"
      ]
    },
    {
      "cell_type": "markdown",
      "metadata": {
        "id": "wkkK372_4Pbq"
      },
      "source": [
        "## 判断语句"
      ]
    },
    {
      "cell_type": "code",
      "execution_count": null,
      "metadata": {
        "id": "ZoBxiSuh4Pbq",
        "outputId": "259aafbf-6c6a-4c37-e7c1-c68a25ee1cea"
      },
      "outputs": [
        {
          "name": "stdout",
          "output_type": "stream",
          "text": [
            "绿色提示：适宜温度\n"
          ]
        }
      ],
      "source": [
        "\n",
        "temperature = 25  # 可以修改这个值测试不同情况\n",
        "\n",
        "if temperature > 35:\n",
        "    print(\"红色预警：高温天气！\")\n",
        "elif temperature >= 28:\n",
        "    print(\"黄色预警：天气炎热\")\n",
        "elif temperature >= 20:\n",
        "    print(\"绿色提示：适宜温度\")\n",
        "else:\n",
        "    print(\"蓝色预警：注意保暖\")"
      ]
    },
    {
      "cell_type": "code",
      "execution_count": null,
      "metadata": {
        "id": "ur8GAq_74Pbq",
        "outputId": "f46416f1-a970-47c1-c466-37caf858c1ea"
      },
      "outputs": [
        {
          "name": "stdout",
          "output_type": "stream",
          "text": [
            "优秀分数个数: 2\n",
            "分数总和: 503\n",
            "平均分数: 83.833\n"
          ]
        }
      ],
      "source": [
        "# 1. 定义分数列表\n",
        "scores = [85, 92, 78, 65, 95, 88]\n",
        "\n",
        "# 2. 初始化变量\n",
        "excellent_count = 0\n",
        "total_score = 0\n",
        "\n",
        "# 3. 遍历列表并计算\n",
        "for score in scores:\n",
        "    total_score += score  # 4a. 累加总分\n",
        "    if score >= 90:      # 4b. 统计优秀分数\n",
        "        excellent_count += 1\n",
        "\n",
        "# 5. 计算平均分\n",
        "average_score = total_score / len(scores)\n",
        "\n",
        "# 6. 打印结果\n",
        "print(f\"优秀分数个数: {excellent_count}\")\n",
        "print(f\"分数总和: {total_score}\")\n",
        "print(f\"平均分数: {average_score:.3f}\")"
      ]
    }
  ],
  "metadata": {
    "kernelspec": {
      "display_name": "vs",
      "language": "python",
      "name": "python3"
    },
    "language_info": {
      "codemirror_mode": {
        "name": "ipython",
        "version": 3
      },
      "file_extension": ".py",
      "mimetype": "text/x-python",
      "name": "python",
      "nbconvert_exporter": "python",
      "pygments_lexer": "ipython3",
      "version": "3.8.18"
    },
    "colab": {
      "provenance": [],
      "include_colab_link": true
    }
  },
  "nbformat": 4,
  "nbformat_minor": 0
}